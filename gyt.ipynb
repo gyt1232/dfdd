{
 "cells": [
  {
   "cell_type": "code",
   "execution_count": 1,
   "id": "2773f9ac-1381-467a-b5c4-94fed64c8509",
   "metadata": {},
   "outputs": [],
   "source": [
    "import os\n",
    "import base64"
   ]
  },
  {
   "cell_type": "code",
   "execution_count": 2,
   "id": "a8684059-88b2-4548-8e30-1d51eb91052d",
   "metadata": {},
   "outputs": [
    {
     "name": "stdout",
     "output_type": "stream",
     "text": [
      "Collecting zhipuai\n",
      "  Downloading zhipuai-2.1.5.20230904-py3-none-any.whl (104 kB)\n",
      "     ------------------------------------ 105.0/105.0 kB 263.8 kB/s eta 0:00:00\n",
      "Collecting httpx>=0.23.0\n",
      "  Downloading httpx-0.27.2-py3-none-any.whl (76 kB)\n",
      "     -------------------------------------- 76.4/76.4 kB 201.7 kB/s eta 0:00:00\n",
      "Collecting cachetools>=4.2.2\n",
      "  Downloading cachetools-5.5.0-py3-none-any.whl (9.5 kB)\n",
      "Collecting pydantic<3.0,>=1.9.0\n",
      "  Downloading pydantic-2.9.2-py3-none-any.whl (434 kB)\n",
      "     ------------------------------------ 434.9/434.9 kB 192.8 kB/s eta 0:00:00\n",
      "Collecting pyjwt<2.9.0,>=2.8.0\n",
      "  Downloading PyJWT-2.8.0-py3-none-any.whl (22 kB)\n",
      "Collecting pydantic-core>=2.14.6\n",
      "  Downloading pydantic_core-2.27.0-cp39-none-win_amd64.whl (2.0 MB)\n",
      "     ---------------------------------------- 2.0/2.0 MB 117.8 kB/s eta 0:00:00\n",
      "Requirement already satisfied: anyio in c:\\programdata\\anaconda3\\lib\\site-packages (from httpx>=0.23.0->zhipuai) (3.5.0)\n",
      "Requirement already satisfied: sniffio in c:\\programdata\\anaconda3\\lib\\site-packages (from httpx>=0.23.0->zhipuai) (1.2.0)\n",
      "Requirement already satisfied: certifi in c:\\programdata\\anaconda3\\lib\\site-packages (from httpx>=0.23.0->zhipuai) (2022.9.14)\n",
      "Collecting httpcore==1.*\n",
      "  Downloading httpcore-1.0.7-py3-none-any.whl (78 kB)\n",
      "     -------------------------------------- 78.6/78.6 kB 118.2 kB/s eta 0:00:00\n",
      "Requirement already satisfied: idna in c:\\programdata\\anaconda3\\lib\\site-packages (from httpx>=0.23.0->zhipuai) (3.3)\n",
      "Collecting h11<0.15,>=0.13\n",
      "  Downloading h11-0.14.0-py3-none-any.whl (58 kB)\n",
      "     -------------------------------------- 58.3/58.3 kB 133.4 kB/s eta 0:00:00\n",
      "Collecting pydantic-core>=2.14.6\n",
      "  Downloading pydantic_core-2.23.4-cp39-none-win_amd64.whl (1.9 MB)\n",
      "     ---------------------------------------- 1.9/1.9 MB 72.2 kB/s eta 0:00:00\n",
      "Collecting typing-extensions>=4.6.1\n",
      "  Downloading typing_extensions-4.12.2-py3-none-any.whl (37 kB)\n",
      "Collecting annotated-types>=0.6.0\n",
      "  Downloading annotated_types-0.7.0-py3-none-any.whl (13 kB)\n",
      "Installing collected packages: typing-extensions, pyjwt, h11, cachetools, annotated-types, pydantic-core, httpcore, pydantic, httpx, zhipuai\n",
      "  Attempting uninstall: typing-extensions\n",
      "    Found existing installation: typing_extensions 4.3.0\n",
      "    Uninstalling typing_extensions-4.3.0:\n",
      "      Successfully uninstalled typing_extensions-4.3.0\n",
      "  Attempting uninstall: pyjwt\n",
      "    Found existing installation: PyJWT 2.4.0\n",
      "    Uninstalling PyJWT-2.4.0:\n",
      "      Successfully uninstalled PyJWT-2.4.0\n",
      "Successfully installed annotated-types-0.7.0 cachetools-5.5.0 h11-0.14.0 httpcore-1.0.7 httpx-0.27.2 pydantic-2.9.2 pydantic-core-2.23.4 pyjwt-2.8.0 typing-extensions-4.12.2 zhipuai-2.1.5.20230904\n",
      "Note: you may need to restart the kernel to use updated packages.\n"
     ]
    }
   ],
   "source": [
    "pip install zhipuai"
   ]
  },
  {
   "cell_type": "code",
   "execution_count": 4,
   "id": "fa2f590c-2ce1-49a1-aea6-b766b66ff07b",
   "metadata": {},
   "outputs": [],
   "source": [
    "from zhipuai import ZhipuAI\n",
    "os.environ[\"ZHIPUAI_API_KEY\"] = \"047572a31df99f12a03c5e934f8912b6.SyQFB8qYjJRayO82\"\n",
    "client = ZhipuAI()"
   ]
  },
  {
   "cell_type": "code",
   "execution_count": 7,
   "id": "5bbe8f3b-08fb-46a4-aabe-17e282c2c46c",
   "metadata": {},
   "outputs": [],
   "source": [
    "video_path = \"C:\\\\Users\\\\Administrator\\\\Downloads\\\\4d81e8a7-b6c5-5658-b3d2-95656903476d_0.mp4\"\n",
    "with open(video_path, 'rb') as video_file:\n",
    "    video_base = base64.b64encode(video_file.read()).decode('utf-8')"
   ]
  },
  {
   "cell_type": "code",
   "execution_count": 8,
   "id": "3e64abca-dc03-4e6d-addd-3042a469410f",
   "metadata": {},
   "outputs": [
    {
     "name": "stdout",
     "output_type": "stream",
     "text": [
      "CompletionMessage(content='画面中一只兔子坐在一辆粉色的车里，面对镜头，双手握着方向盘。它穿着蓝色的衣服和帽子，眼睛看向画面的左边，然后眨眼微笑着看向前方。背景是模糊的草地和天空。', role='assistant', tool_calls=None)\n"
     ]
    }
   ],
   "source": [
    "response = client.chat.completions.create(\n",
    "model=\"glm-4v-plus\",\n",
    "temperature=0.0,\n",
    "top_p=0,\n",
    "\n",
    "messages=[{\n",
    "\"role\":\"user\",\n",
    "\"content\":[{\n",
    "\"type\":\"video_url\",\n",
    "\"video_url\":{\"url\":video_base}\n",
    "},{\n",
    "\"type\":\"text\",\n",
    "\"text\":\"视频有什么\"\n",
    "}]\n",
    "}]\n",
    ")\n",
    "print(response.choices[0].message)"
   ]
  },
  {
   "cell_type": "code",
   "execution_count": null,
   "id": "d961bad5-ddd1-476e-a677-272444e6da5f",
   "metadata": {},
   "outputs": [],
   "source": []
  }
 ],
 "metadata": {
  "kernelspec": {
   "display_name": "Python 3 (ipykernel)",
   "language": "python",
   "name": "python3"
  },
  "language_info": {
   "codemirror_mode": {
    "name": "ipython",
    "version": 3
   },
   "file_extension": ".py",
   "mimetype": "text/x-python",
   "name": "python",
   "nbconvert_exporter": "python",
   "pygments_lexer": "ipython3",
   "version": "3.9.13"
  }
 },
 "nbformat": 4,
 "nbformat_minor": 5
}
